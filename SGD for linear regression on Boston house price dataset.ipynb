{
 "cells": [
  {
   "cell_type": "markdown",
   "metadata": {},
   "source": [
    "SGD for Linear Regression on Boston House Price dataset\n",
    "Number of Instances: 506 \n",
    "\n",
    "Number of Attributes: 13 numeric/categorical predictive\n",
    "\n",
    "Median Value (attribute 14) is usually the target\n",
    "\n",
    "Attribute Information (in order):\n",
    "    - CRIM     per capita crime rate by town\n",
    "    - ZN       proportion of residential land zoned for lots over 25,000 sq.ft.\n",
    "    - INDUS    proportion of non-retail business acres per town\n",
    "    - CHAS     Charles River dummy variable (= 1 if tract bounds river; 0 otherwise)\n",
    "    - NOX      nitric oxides concentration (parts per 10 million)\n",
    "    - RM       average number of rooms per dwelling\n",
    "    - AGE      proportion of owner-occupied units built prior to 1940\n",
    "    - DIS      weighted distances to five Boston employment centres\n",
    "    - RAD      index of accessibility to radial highways\n",
    "    - TAX      full-value property-tax rate per $10,000\n",
    "    - PTRATIO  pupil-teacher ratio by town\n",
    "    - B        1000(Bk - 0.63)^2 where Bk is the proportion of blacks by town\n",
    "    - LSTAT    % lower status of the population\n",
    "    - MEDV     Median value of owner-occupied homes in $1000's\n"
   ]
  },
  {
   "cell_type": "code",
   "execution_count": 3,
   "metadata": {},
   "outputs": [],
   "source": [
    "import numpy as np\n",
    "from sklearn.preprocessing import StandardScaler\n",
    "from sklearn.cross_validation import train_test_split\n",
    "import pandas as pd\n",
    "import warnings\n",
    "warnings.filterwarnings('ignore')"
   ]
  },
  {
   "cell_type": "code",
   "execution_count": 4,
   "metadata": {},
   "outputs": [],
   "source": [
    "# We will load boston house price datasets\n",
    "from sklearn.datasets import load_boston\n",
    "boston=load_boston()"
   ]
  },
  {
   "cell_type": "code",
   "execution_count": 5,
   "metadata": {},
   "outputs": [
    {
     "name": "stdout",
     "output_type": "stream",
     "text": [
      "(506, 13)\n"
     ]
    }
   ],
   "source": [
    "print(boston.data.shape)"
   ]
  },
  {
   "cell_type": "code",
   "execution_count": 6,
   "metadata": {},
   "outputs": [
    {
     "name": "stdout",
     "output_type": "stream",
     "text": [
      "['CRIM' 'ZN' 'INDUS' 'CHAS' 'NOX' 'RM' 'AGE' 'DIS' 'RAD' 'TAX' 'PTRATIO'\n",
      " 'B' 'LSTAT']\n"
     ]
    }
   ],
   "source": [
    "print(boston.feature_names)"
   ]
  },
  {
   "cell_type": "code",
   "execution_count": 7,
   "metadata": {},
   "outputs": [
    {
     "name": "stdout",
     "output_type": "stream",
     "text": [
      "[24.  21.6 34.7 33.4 36.2 28.7 22.9 27.1 16.5 18.9 15.  18.9 21.7 20.4\n",
      " 18.2 19.9 23.1 17.5 20.2 18.2 13.6 19.6 15.2 14.5 15.6 13.9 16.6 14.8\n",
      " 18.4 21.  12.7 14.5 13.2 13.1 13.5 18.9 20.  21.  24.7 30.8 34.9 26.6\n",
      " 25.3 24.7 21.2 19.3 20.  16.6 14.4 19.4 19.7 20.5 25.  23.4 18.9 35.4\n",
      " 24.7 31.6 23.3 19.6 18.7 16.  22.2 25.  33.  23.5 19.4 22.  17.4 20.9\n",
      " 24.2 21.7 22.8 23.4 24.1 21.4 20.  20.8 21.2 20.3 28.  23.9 24.8 22.9\n",
      " 23.9 26.6 22.5 22.2 23.6 28.7 22.6 22.  22.9 25.  20.6 28.4 21.4 38.7\n",
      " 43.8 33.2 27.5 26.5 18.6 19.3 20.1 19.5 19.5 20.4 19.8 19.4 21.7 22.8\n",
      " 18.8 18.7 18.5 18.3 21.2 19.2 20.4 19.3 22.  20.3 20.5 17.3 18.8 21.4\n",
      " 15.7 16.2 18.  14.3 19.2 19.6 23.  18.4 15.6 18.1 17.4 17.1 13.3 17.8\n",
      " 14.  14.4 13.4 15.6 11.8 13.8 15.6 14.6 17.8 15.4 21.5 19.6 15.3 19.4\n",
      " 17.  15.6 13.1 41.3 24.3 23.3 27.  50.  50.  50.  22.7 25.  50.  23.8\n",
      " 23.8 22.3 17.4 19.1 23.1 23.6 22.6 29.4 23.2 24.6 29.9 37.2 39.8 36.2\n",
      " 37.9 32.5 26.4 29.6 50.  32.  29.8 34.9 37.  30.5 36.4 31.1 29.1 50.\n",
      " 33.3 30.3 34.6 34.9 32.9 24.1 42.3 48.5 50.  22.6 24.4 22.5 24.4 20.\n",
      " 21.7 19.3 22.4 28.1 23.7 25.  23.3 28.7 21.5 23.  26.7 21.7 27.5 30.1\n",
      " 44.8 50.  37.6 31.6 46.7 31.5 24.3 31.7 41.7 48.3 29.  24.  25.1 31.5\n",
      " 23.7 23.3 22.  20.1 22.2 23.7 17.6 18.5 24.3 20.5 24.5 26.2 24.4 24.8\n",
      " 29.6 42.8 21.9 20.9 44.  50.  36.  30.1 33.8 43.1 48.8 31.  36.5 22.8\n",
      " 30.7 50.  43.5 20.7 21.1 25.2 24.4 35.2 32.4 32.  33.2 33.1 29.1 35.1\n",
      " 45.4 35.4 46.  50.  32.2 22.  20.1 23.2 22.3 24.8 28.5 37.3 27.9 23.9\n",
      " 21.7 28.6 27.1 20.3 22.5 29.  24.8 22.  26.4 33.1 36.1 28.4 33.4 28.2\n",
      " 22.8 20.3 16.1 22.1 19.4 21.6 23.8 16.2 17.8 19.8 23.1 21.  23.8 23.1\n",
      " 20.4 18.5 25.  24.6 23.  22.2 19.3 22.6 19.8 17.1 19.4 22.2 20.7 21.1\n",
      " 19.5 18.5 20.6 19.  18.7 32.7 16.5 23.9 31.2 17.5 17.2 23.1 24.5 26.6\n",
      " 22.9 24.1 18.6 30.1 18.2 20.6 17.8 21.7 22.7 22.6 25.  19.9 20.8 16.8\n",
      " 21.9 27.5 21.9 23.1 50.  50.  50.  50.  50.  13.8 13.8 15.  13.9 13.3\n",
      " 13.1 10.2 10.4 10.9 11.3 12.3  8.8  7.2 10.5  7.4 10.2 11.5 15.1 23.2\n",
      "  9.7 13.8 12.7 13.1 12.5  8.5  5.   6.3  5.6  7.2 12.1  8.3  8.5  5.\n",
      " 11.9 27.9 17.2 27.5 15.  17.2 17.9 16.3  7.   7.2  7.5 10.4  8.8  8.4\n",
      " 16.7 14.2 20.8 13.4 11.7  8.3 10.2 10.9 11.   9.5 14.5 14.1 16.1 14.3\n",
      " 11.7 13.4  9.6  8.7  8.4 12.8 10.5 17.1 18.4 15.4 10.8 11.8 14.9 12.6\n",
      " 14.1 13.  13.4 15.2 16.1 17.8 14.9 14.1 12.7 13.5 14.9 20.  16.4 17.7\n",
      " 19.5 20.2 21.4 19.9 19.  19.1 19.1 20.1 19.9 19.6 23.2 29.8 13.8 13.3\n",
      " 16.7 12.  14.6 21.4 23.  23.7 25.  21.8 20.6 21.2 19.1 20.6 15.2  7.\n",
      "  8.1 13.6 20.1 21.8 24.5 23.1 19.7 18.3 21.2 17.5 16.8 22.4 20.6 23.9\n",
      " 22.  11.9]\n"
     ]
    }
   ],
   "source": [
    "print(boston.target)"
   ]
  },
  {
   "cell_type": "code",
   "execution_count": 8,
   "metadata": {},
   "outputs": [
    {
     "name": "stdout",
     "output_type": "stream",
     "text": [
      "Boston House Prices dataset\n",
      "===========================\n",
      "\n",
      "Notes\n",
      "------\n",
      "Data Set Characteristics:  \n",
      "\n",
      "    :Number of Instances: 506 \n",
      "\n",
      "    :Number of Attributes: 13 numeric/categorical predictive\n",
      "    \n",
      "    :Median Value (attribute 14) is usually the target\n",
      "\n",
      "    :Attribute Information (in order):\n",
      "        - CRIM     per capita crime rate by town\n",
      "        - ZN       proportion of residential land zoned for lots over 25,000 sq.ft.\n",
      "        - INDUS    proportion of non-retail business acres per town\n",
      "        - CHAS     Charles River dummy variable (= 1 if tract bounds river; 0 otherwise)\n",
      "        - NOX      nitric oxides concentration (parts per 10 million)\n",
      "        - RM       average number of rooms per dwelling\n",
      "        - AGE      proportion of owner-occupied units built prior to 1940\n",
      "        - DIS      weighted distances to five Boston employment centres\n",
      "        - RAD      index of accessibility to radial highways\n",
      "        - TAX      full-value property-tax rate per $10,000\n",
      "        - PTRATIO  pupil-teacher ratio by town\n",
      "        - B        1000(Bk - 0.63)^2 where Bk is the proportion of blacks by town\n",
      "        - LSTAT    % lower status of the population\n",
      "        - MEDV     Median value of owner-occupied homes in $1000's\n",
      "\n",
      "    :Missing Attribute Values: None\n",
      "\n",
      "    :Creator: Harrison, D. and Rubinfeld, D.L.\n",
      "\n",
      "This is a copy of UCI ML housing dataset.\n",
      "http://archive.ics.uci.edu/ml/datasets/Housing\n",
      "\n",
      "\n",
      "This dataset was taken from the StatLib library which is maintained at Carnegie Mellon University.\n",
      "\n",
      "The Boston house-price data of Harrison, D. and Rubinfeld, D.L. 'Hedonic\n",
      "prices and the demand for clean air', J. Environ. Economics & Management,\n",
      "vol.5, 81-102, 1978.   Used in Belsley, Kuh & Welsch, 'Regression diagnostics\n",
      "...', Wiley, 1980.   N.B. Various transformations are used in the table on\n",
      "pages 244-261 of the latter.\n",
      "\n",
      "The Boston house-price data has been used in many machine learning papers that address regression\n",
      "problems.   \n",
      "     \n",
      "**References**\n",
      "\n",
      "   - Belsley, Kuh & Welsch, 'Regression diagnostics: Identifying Influential Data and Sources of Collinearity', Wiley, 1980. 244-261.\n",
      "   - Quinlan,R. (1993). Combining Instance-Based and Model-Based Learning. In Proceedings on the Tenth International Conference of Machine Learning, 236-243, University of Massachusetts, Amherst. Morgan Kaufmann.\n",
      "   - many more! (see http://archive.ics.uci.edu/ml/datasets/Housing)\n",
      "\n"
     ]
    }
   ],
   "source": [
    "print(boston.DESCR)"
   ]
  },
  {
   "cell_type": "code",
   "execution_count": 9,
   "metadata": {},
   "outputs": [],
   "source": [
    "#converting into pandas\n",
    "bos=pd.DataFrame(data=boston.data)"
   ]
  },
  {
   "cell_type": "code",
   "execution_count": 10,
   "metadata": {},
   "outputs": [
    {
     "data": {
      "text/plain": [
       "(506, 13)"
      ]
     },
     "execution_count": 10,
     "metadata": {},
     "output_type": "execute_result"
    }
   ],
   "source": [
    "bos.shape"
   ]
  },
  {
   "cell_type": "code",
   "execution_count": 11,
   "metadata": {},
   "outputs": [
    {
     "data": {
      "text/html": [
       "<div>\n",
       "<style scoped>\n",
       "    .dataframe tbody tr th:only-of-type {\n",
       "        vertical-align: middle;\n",
       "    }\n",
       "\n",
       "    .dataframe tbody tr th {\n",
       "        vertical-align: top;\n",
       "    }\n",
       "\n",
       "    .dataframe thead th {\n",
       "        text-align: right;\n",
       "    }\n",
       "</style>\n",
       "<table border=\"1\" class=\"dataframe\">\n",
       "  <thead>\n",
       "    <tr style=\"text-align: right;\">\n",
       "      <th></th>\n",
       "      <th>0</th>\n",
       "      <th>1</th>\n",
       "      <th>2</th>\n",
       "      <th>3</th>\n",
       "      <th>4</th>\n",
       "      <th>5</th>\n",
       "      <th>6</th>\n",
       "      <th>7</th>\n",
       "      <th>8</th>\n",
       "      <th>9</th>\n",
       "      <th>10</th>\n",
       "      <th>11</th>\n",
       "      <th>12</th>\n",
       "    </tr>\n",
       "  </thead>\n",
       "  <tbody>\n",
       "    <tr>\n",
       "      <th>0</th>\n",
       "      <td>0.00632</td>\n",
       "      <td>18.0</td>\n",
       "      <td>2.31</td>\n",
       "      <td>0.0</td>\n",
       "      <td>0.538</td>\n",
       "      <td>6.575</td>\n",
       "      <td>65.2</td>\n",
       "      <td>4.0900</td>\n",
       "      <td>1.0</td>\n",
       "      <td>296.0</td>\n",
       "      <td>15.3</td>\n",
       "      <td>396.90</td>\n",
       "      <td>4.98</td>\n",
       "    </tr>\n",
       "    <tr>\n",
       "      <th>1</th>\n",
       "      <td>0.02731</td>\n",
       "      <td>0.0</td>\n",
       "      <td>7.07</td>\n",
       "      <td>0.0</td>\n",
       "      <td>0.469</td>\n",
       "      <td>6.421</td>\n",
       "      <td>78.9</td>\n",
       "      <td>4.9671</td>\n",
       "      <td>2.0</td>\n",
       "      <td>242.0</td>\n",
       "      <td>17.8</td>\n",
       "      <td>396.90</td>\n",
       "      <td>9.14</td>\n",
       "    </tr>\n",
       "    <tr>\n",
       "      <th>2</th>\n",
       "      <td>0.02729</td>\n",
       "      <td>0.0</td>\n",
       "      <td>7.07</td>\n",
       "      <td>0.0</td>\n",
       "      <td>0.469</td>\n",
       "      <td>7.185</td>\n",
       "      <td>61.1</td>\n",
       "      <td>4.9671</td>\n",
       "      <td>2.0</td>\n",
       "      <td>242.0</td>\n",
       "      <td>17.8</td>\n",
       "      <td>392.83</td>\n",
       "      <td>4.03</td>\n",
       "    </tr>\n",
       "    <tr>\n",
       "      <th>3</th>\n",
       "      <td>0.03237</td>\n",
       "      <td>0.0</td>\n",
       "      <td>2.18</td>\n",
       "      <td>0.0</td>\n",
       "      <td>0.458</td>\n",
       "      <td>6.998</td>\n",
       "      <td>45.8</td>\n",
       "      <td>6.0622</td>\n",
       "      <td>3.0</td>\n",
       "      <td>222.0</td>\n",
       "      <td>18.7</td>\n",
       "      <td>394.63</td>\n",
       "      <td>2.94</td>\n",
       "    </tr>\n",
       "    <tr>\n",
       "      <th>4</th>\n",
       "      <td>0.06905</td>\n",
       "      <td>0.0</td>\n",
       "      <td>2.18</td>\n",
       "      <td>0.0</td>\n",
       "      <td>0.458</td>\n",
       "      <td>7.147</td>\n",
       "      <td>54.2</td>\n",
       "      <td>6.0622</td>\n",
       "      <td>3.0</td>\n",
       "      <td>222.0</td>\n",
       "      <td>18.7</td>\n",
       "      <td>396.90</td>\n",
       "      <td>5.33</td>\n",
       "    </tr>\n",
       "  </tbody>\n",
       "</table>\n",
       "</div>"
      ],
      "text/plain": [
       "        0     1     2    3      4      5     6       7    8      9     10  \\\n",
       "0  0.00632  18.0  2.31  0.0  0.538  6.575  65.2  4.0900  1.0  296.0  15.3   \n",
       "1  0.02731   0.0  7.07  0.0  0.469  6.421  78.9  4.9671  2.0  242.0  17.8   \n",
       "2  0.02729   0.0  7.07  0.0  0.469  7.185  61.1  4.9671  2.0  242.0  17.8   \n",
       "3  0.03237   0.0  2.18  0.0  0.458  6.998  45.8  6.0622  3.0  222.0  18.7   \n",
       "4  0.06905   0.0  2.18  0.0  0.458  7.147  54.2  6.0622  3.0  222.0  18.7   \n",
       "\n",
       "       11    12  \n",
       "0  396.90  4.98  \n",
       "1  396.90  9.14  \n",
       "2  392.83  4.03  \n",
       "3  394.63  2.94  \n",
       "4  396.90  5.33  "
      ]
     },
     "execution_count": 11,
     "metadata": {},
     "output_type": "execute_result"
    }
   ],
   "source": [
    "bos.head()"
   ]
  },
  {
   "cell_type": "code",
   "execution_count": 12,
   "metadata": {},
   "outputs": [
    {
     "name": "stdout",
     "output_type": "stream",
     "text": [
      "      CRIM    ZN  INDUS  CHAS    NOX     RM   AGE     DIS  RAD    TAX  \\\n",
      "0  0.00632  18.0   2.31   0.0  0.538  6.575  65.2  4.0900  1.0  296.0   \n",
      "1  0.02731   0.0   7.07   0.0  0.469  6.421  78.9  4.9671  2.0  242.0   \n",
      "2  0.02729   0.0   7.07   0.0  0.469  7.185  61.1  4.9671  2.0  242.0   \n",
      "3  0.03237   0.0   2.18   0.0  0.458  6.998  45.8  6.0622  3.0  222.0   \n",
      "4  0.06905   0.0   2.18   0.0  0.458  7.147  54.2  6.0622  3.0  222.0   \n",
      "\n",
      "   PTRATIO       B  LSTAT  \n",
      "0     15.3  396.90   4.98  \n",
      "1     17.8  396.90   9.14  \n",
      "2     17.8  392.83   4.03  \n",
      "3     18.7  394.63   2.94  \n",
      "4     18.7  396.90   5.33  \n"
     ]
    }
   ],
   "source": [
    "bos.columns = boston.feature_names\n",
    "print(bos.head())"
   ]
  },
  {
   "cell_type": "code",
   "execution_count": 13,
   "metadata": {},
   "outputs": [],
   "source": [
    "# spliting the data into train and test\n",
    "price=boston.target\n",
    "X_train, X_test, Y_train, Y_test = train_test_split(bos, price, test_size=0.33, random_state=5)"
   ]
  },
  {
   "cell_type": "code",
   "execution_count": 14,
   "metadata": {},
   "outputs": [],
   "source": [
    "# applying column standardization on train and test data\n",
    "s=StandardScaler()\n",
    "X_train=s.fit_transform(np.array(X_train))\n",
    "X_test=s.transform(np.array(X_test))"
   ]
  },
  {
   "cell_type": "code",
   "execution_count": 15,
   "metadata": {},
   "outputs": [],
   "source": [
    "#training data for manual SGD regressor\n",
    "manual_train=pd.DataFrame(data=X_train)\n",
    "manual_train['price']=Y_train"
   ]
  },
  {
   "cell_type": "code",
   "execution_count": 16,
   "metadata": {},
   "outputs": [
    {
     "data": {
      "text/html": [
       "<div>\n",
       "<style scoped>\n",
       "    .dataframe tbody tr th:only-of-type {\n",
       "        vertical-align: middle;\n",
       "    }\n",
       "\n",
       "    .dataframe tbody tr th {\n",
       "        vertical-align: top;\n",
       "    }\n",
       "\n",
       "    .dataframe thead th {\n",
       "        text-align: right;\n",
       "    }\n",
       "</style>\n",
       "<table border=\"1\" class=\"dataframe\">\n",
       "  <thead>\n",
       "    <tr style=\"text-align: right;\">\n",
       "      <th></th>\n",
       "      <th>0</th>\n",
       "      <th>1</th>\n",
       "      <th>2</th>\n",
       "      <th>3</th>\n",
       "      <th>4</th>\n",
       "      <th>5</th>\n",
       "      <th>6</th>\n",
       "      <th>7</th>\n",
       "      <th>8</th>\n",
       "      <th>9</th>\n",
       "      <th>10</th>\n",
       "      <th>11</th>\n",
       "      <th>12</th>\n",
       "      <th>price</th>\n",
       "    </tr>\n",
       "  </thead>\n",
       "  <tbody>\n",
       "    <tr>\n",
       "      <th>0</th>\n",
       "      <td>0.911839</td>\n",
       "      <td>-0.502419</td>\n",
       "      <td>1.072305</td>\n",
       "      <td>-0.256978</td>\n",
       "      <td>1.633548</td>\n",
       "      <td>0.486034</td>\n",
       "      <td>0.962774</td>\n",
       "      <td>-0.823477</td>\n",
       "      <td>1.655334</td>\n",
       "      <td>1.552100</td>\n",
       "      <td>0.808078</td>\n",
       "      <td>-2.842959</td>\n",
       "      <td>1.523203</td>\n",
       "      <td>13.4</td>\n",
       "    </tr>\n",
       "    <tr>\n",
       "      <th>1</th>\n",
       "      <td>-0.411727</td>\n",
       "      <td>-0.502419</td>\n",
       "      <td>-1.129795</td>\n",
       "      <td>-0.256978</td>\n",
       "      <td>-0.552451</td>\n",
       "      <td>1.028078</td>\n",
       "      <td>0.668619</td>\n",
       "      <td>-0.183274</td>\n",
       "      <td>-0.871371</td>\n",
       "      <td>-0.802704</td>\n",
       "      <td>-0.304174</td>\n",
       "      <td>0.427436</td>\n",
       "      <td>-0.995240</td>\n",
       "      <td>23.6</td>\n",
       "    </tr>\n",
       "    <tr>\n",
       "      <th>2</th>\n",
       "      <td>0.124583</td>\n",
       "      <td>-0.502419</td>\n",
       "      <td>1.072305</td>\n",
       "      <td>-0.256978</td>\n",
       "      <td>1.441946</td>\n",
       "      <td>-3.913414</td>\n",
       "      <td>0.725324</td>\n",
       "      <td>-1.075955</td>\n",
       "      <td>1.655334</td>\n",
       "      <td>1.552100</td>\n",
       "      <td>0.808078</td>\n",
       "      <td>-0.053353</td>\n",
       "      <td>-0.765646</td>\n",
       "      <td>27.5</td>\n",
       "    </tr>\n",
       "    <tr>\n",
       "      <th>3</th>\n",
       "      <td>-0.406208</td>\n",
       "      <td>0.839388</td>\n",
       "      <td>-0.901940</td>\n",
       "      <td>-0.256978</td>\n",
       "      <td>-1.083710</td>\n",
       "      <td>0.097426</td>\n",
       "      <td>-0.515087</td>\n",
       "      <td>1.600509</td>\n",
       "      <td>-0.411970</td>\n",
       "      <td>-0.624310</td>\n",
       "      <td>-0.860301</td>\n",
       "      <td>0.152292</td>\n",
       "      <td>-0.184576</td>\n",
       "      <td>22.2</td>\n",
       "    </tr>\n",
       "  </tbody>\n",
       "</table>\n",
       "</div>"
      ],
      "text/plain": [
       "          0         1         2         3         4         5         6  \\\n",
       "0  0.911839 -0.502419  1.072305 -0.256978  1.633548  0.486034  0.962774   \n",
       "1 -0.411727 -0.502419 -1.129795 -0.256978 -0.552451  1.028078  0.668619   \n",
       "2  0.124583 -0.502419  1.072305 -0.256978  1.441946 -3.913414  0.725324   \n",
       "3 -0.406208  0.839388 -0.901940 -0.256978 -1.083710  0.097426 -0.515087   \n",
       "\n",
       "          7         8         9        10        11        12  price  \n",
       "0 -0.823477  1.655334  1.552100  0.808078 -2.842959  1.523203   13.4  \n",
       "1 -0.183274 -0.871371 -0.802704 -0.304174  0.427436 -0.995240   23.6  \n",
       "2 -1.075955  1.655334  1.552100  0.808078 -0.053353 -0.765646   27.5  \n",
       "3  1.600509 -0.411970 -0.624310 -0.860301  0.152292 -0.184576   22.2  "
      ]
     },
     "execution_count": 16,
     "metadata": {},
     "output_type": "execute_result"
    }
   ],
   "source": [
    "manual_train.head(4)"
   ]
  },
  {
   "cell_type": "code",
   "execution_count": 17,
   "metadata": {},
   "outputs": [],
   "source": [
    "# lets convert to numpy array, which will be available for both SGDRegressor of sklearn and manual SGD regressor\n",
    "X_test = np.array(X_test)\n",
    "Y_test=np.array(Y_test)"
   ]
  },
  {
   "cell_type": "code",
   "execution_count": 18,
   "metadata": {},
   "outputs": [],
   "source": [
    "results=pd.DataFrame(columns=['sno', 'algo', 'alpha', 'lr_rate_variation', 'init_lr_rate', 'power_t', 'n_iter', 'error'])"
   ]
  },
  {
   "cell_type": "markdown",
   "metadata": {},
   "source": [
    "SGDregressor v/s manual SGD :\n",
    "fixing initial learning rate = 0.01, and making it constant and changing number of iteration"
   ]
  },
  {
   "cell_type": "code",
   "execution_count": 21,
   "metadata": {},
   "outputs": [],
   "source": [
    "import seaborn as sns\n",
    "from sklearn.linear_model import SGDRegressor\n",
    "from sklearn.metrics import mean_squared_error\n",
    "import matplotlib.pyplot as plt\n",
    "%matplotlib inline"
   ]
  },
  {
   "cell_type": "code",
   "execution_count": 25,
   "metadata": {},
   "outputs": [],
   "source": [
    "#the functioning of this function is to use SGDRegressor of sklearn and predict the price\n",
    "\n",
    "#this function takes alpha, learning rate variation , initial learning rate(eta0), number of iteration , power_t, \n",
    "#and all test and train data as an argument\n",
    "\n",
    "#this function returns weight, intercept and mean squared error\n",
    "def sklearn_sgd(alpha, lr_rate_variation, eta0=0.01, power_t=0.25, n_iter=100, X_train=X_train, X_test=X_test, Y_train=Y_train, Y_test=Y_test):\n",
    "    \n",
    "    clf=SGDRegressor(alpha=alpha, penalty=None, learning_rate=lr_rate_variation, eta0=eta0, power_t=power_t, n_iter=n_iter)\n",
    "    clf.fit(X_train, Y_train)\n",
    "    y_pred=clf.predict(X_test)\n",
    "    \n",
    "    #scatter plot\n",
    "    plt.scatter(Y_test,y_pred)\n",
    "    plt.title('scatter plot between actual y and predicted y')\n",
    "    plt.xlabel('actual y')\n",
    "    plt.ylabel('predicted y')\n",
    "    plt.grid(b=True, linewidth=0.5)\n",
    "    plt.show()\n",
    "    print('***********************************************************')\n",
    "    \n",
    "    \n",
    "       \n",
    "    sgd_error=mean_squared_error(Y_test,y_pred)\n",
    "    print('Mean Square Error(MSE)=', sgd_error)\n",
    "    print('Number of iteration=', n_iter)\n",
    "    \n",
    "    return clf.coef_, clf.intercept_, sgd_error"
   ]
  },
  {
   "cell_type": "markdown",
   "metadata": {},
   "source": [
    "SGDRegressor, n_iter=1, lr_rate=0.01, lr_rate_variation='constant'"
   ]
  },
  {
   "cell_type": "code",
   "execution_count": 26,
   "metadata": {},
   "outputs": [
    {
     "data": {
      "image/png": "[encoded data removed]",
      "text/plain": [
       "<Figure size 432x288 with 1 Axes>"
      ]
     },
     "metadata": {},
     "output_type": "display_data"
    },
    {
     "name": "stdout",
     "output_type": "stream",
     "text": [
      "***********************************************************\n",
      "Mean Square Error(MSE)= 33.82391592894167\n",
      "Number of iteration= 1\n"
     ]
    }
   ],
   "source": [
    "w_sgd, b_sgd, error_sgd=sklearn_sgd(alpha=0.0001, lr_rate_variation='constant', eta0=0.01, n_iter=1)"
   ]
  },
  {
   "cell_type": "code",
   "execution_count": 27,
   "metadata": {},
   "outputs": [],
   "source": [
    "new=[1, 'SGDRegressor', 0.0001, 'constant', 0.01, 0.25, 1, error_sgd]\n",
    "results.loc[0]=new"
   ]
  },
  {
   "cell_type": "markdown",
   "metadata": {},
   "source": [
    "Manual sgd, n_iter=1, lr_rate=0.01, lr_rate_variation='constant'"
   ]
  },
  {
   "cell_type": "code",
   "execution_count": 28,
   "metadata": {},
   "outputs": [],
   "source": [
    "# this function of sgd to linear regression, and we didn't use any regularization\n",
    "# we need to provide the pandas data with price, initial learning rate , and learning rate variation, number of iteration\n",
    "# here we have implemented constant learning rate and invscaling learning rate\n",
    "# checking the significant difference in loss i.e stopping condition might take lots of time so here we fix the number of loop \n",
    "# this function returns weight (w) and bias (b)\n",
    "# here we have taken sgd with batch size=10\n",
    "def manual_fit(X, lr_rate_variation, alpha=0.0001, lr_rate=0.01, power_t=0.25, n_iter=100):\n",
    "    w_new=np.zeros(shape=(1,13))\n",
    "    b_new=0\n",
    "    t=1\n",
    "    r=lr_rate\n",
    "    \n",
    "    while(t<=n_iter):\n",
    "        w_old=w_new\n",
    "        b_old=b_new\n",
    "        w_=np.zeros(shape=(1,13))\n",
    "        b_=0\n",
    "        x_data=X.sample(10)\n",
    "        x=np.array(x_data.drop('price',axis=1))\n",
    "        y=np.array(x_data['price'])\n",
    "        \n",
    "        \n",
    "        for i in range(10):  # for getting the derivatives using sgd with k=10\n",
    "            y_curr=np.dot(w_old,x[i])+b_old\n",
    "            w_+=x[i] * (y[i] - y_curr)\n",
    "            b_+=(y[i]-y_curr)\n",
    "            \n",
    "            \n",
    "        w_*=(-2/x.shape[0])\n",
    "        b_*=(-2/x.shape[0])\n",
    "        \n",
    "        #updating the parameters\n",
    "        w_new=(w_old-r*w_)\n",
    "        b_new=(b_old-r*b_)\n",
    "        \n",
    "        \n",
    "        if(lr_rate_variation=='invscaling'):\n",
    "            r = lr_rate / pow(t, power_t)\n",
    "        t+=1\n",
    "        \n",
    "    return w_new, b_new\n",
    "\n",
    "\n",
    "\n",
    "def pred(x,w, b):\n",
    "    y_pred=[]\n",
    "    for i in range(len(x)):\n",
    "        y=np.asscalar(np.dot(w,x[i])+b)\n",
    "        y_pred.append(y)\n",
    "    return np.array(y_pred)\n",
    "\n",
    "\n",
    "def plot_(X_test,y_pred):\n",
    "    #scatter plot\n",
    "    plt.scatter(Y_test,y_pred)\n",
    "    plt.grid(b=True, linewidth=0.3)\n",
    "    plt.title('scatter plot between actual y and predicted y')\n",
    "    plt.xlabel('actual y')\n",
    "    plt.ylabel('predicted y')\n",
    "    plt.show()\n",
    "    print('**************************************************************')\n",
    "    \n",
    "    \n",
    "       \n",
    "    manual_error=mean_squared_error(Y_test,y_pred)\n",
    "    print('error=',manual_error)\n",
    "    \n",
    "    return manual_error"
   ]
  },
  {
   "cell_type": "code",
   "execution_count": 29,
   "metadata": {},
   "outputs": [],
   "source": [
    "w, b=manual_fit(X=manual_train, lr_rate_variation='constant' , n_iter=1)"
   ]
  },
  {
   "cell_type": "code",
   "execution_count": 30,
   "metadata": {},
   "outputs": [],
   "source": [
    "y_pred=pred(X_test, w=w, b=b)"
   ]
  },
  {
   "cell_type": "code",
   "execution_count": 31,
   "metadata": {},
   "outputs": [
    {
     "data": {
      "image/png": "[encoded data removed]",
      "text/plain": [
       "<Figure size 432x288 with 1 Axes>"
      ]
     },
     "metadata": {},
     "output_type": "display_data"
    },
    {
     "name": "stdout",
     "output_type": "stream",
     "text": [
      "**************************************************************\n",
      "error= 568.7209772882031\n"
     ]
    }
   ],
   "source": [
    "manual_error=plot_(X_test,y_pred)"
   ]
  },
  {
   "cell_type": "code",
   "execution_count": 32,
   "metadata": {},
   "outputs": [],
   "source": [
    "new=[2, 'manual sgd', 0.0001, 'constant', 0.01, 0.25, 1, manual_error]\n",
    "results.loc[1]=new"
   ]
  },
  {
   "cell_type": "code",
   "execution_count": 33,
   "metadata": {},
   "outputs": [
    {
     "name": "stdout",
     "output_type": "stream",
     "text": [
      "sklearn sgd weight---\n",
      " [-0.35702048  0.08266086 -0.10239431  0.44093634 -0.10910239  2.46655515\n",
      " -0.34848948 -1.92032904  0.5283692  -0.73835999 -1.81926016  0.67172549\n",
      " -2.59121611]\n",
      "*********************************************************************************\n",
      "manual sgd weight---\n",
      " [[-0.07012448  0.39323983 -0.16449092 -0.11851829 -0.19470416  0.40401932\n",
      "  -0.20265916  0.30616198 -0.0913902  -0.09932136 -0.06671894  0.09365488\n",
      "  -0.11135006]]\n"
     ]
    }
   ],
   "source": [
    "print('sklearn sgd weight---\\n',w_sgd)\n",
    "print('*********************************************************************************')\n",
    "print('manual sgd weight---\\n',w)"
   ]
  },
  {
   "cell_type": "code",
   "execution_count": 35,
   "metadata": {},
   "outputs": [],
   "source": [
    "b_diff=[]\n",
    "w_num=[]"
   ]
  },
  {
   "cell_type": "code",
   "execution_count": 36,
   "metadata": {},
   "outputs": [
    {
     "name": "stdout",
     "output_type": "stream",
     "text": [
      "number of points more than 30% in percent= 13\n"
     ]
    }
   ],
   "source": [
    "percent=abs((w_sgd-w)/w)*100\n",
    "cnt=0\n",
    "for i in range(13):\n",
    "    if (percent[0][i]>30):\n",
    "        cnt+=1\n",
    "w_num.append(cnt)\n",
    "print('number of points more than 30% in percent=',cnt)"
   ]
  },
  {
   "cell_type": "code",
   "execution_count": 37,
   "metadata": {},
   "outputs": [
    {
     "name": "stdout",
     "output_type": "stream",
     "text": [
      "sklearn sgd intercept= [21.85457053]\n",
      "manual sgd intercept= [0.4612]\n"
     ]
    }
   ],
   "source": [
    "print('sklearn sgd intercept=',b_sgd)\n",
    "print('manual sgd intercept=',b)\n",
    "b_diff.append(abs(b_sgd-b))"
   ]
  },
  {
   "cell_type": "markdown",
   "metadata": {},
   "source": [
    "SGDRegressor, n_iter=100, lr_rate=0.01, lr_rate_variation='constant'"
   ]
  },
  {
   "cell_type": "code",
   "execution_count": 38,
   "metadata": {},
   "outputs": [
    {
     "data": {
      "image/png": "[encoded data removed]",
      "text/plain": [
       "<Figure size 432x288 with 1 Axes>"
      ]
     },
     "metadata": {},
     "output_type": "display_data"
    },
    {
     "name": "stdout",
     "output_type": "stream",
     "text": [
      "***********************************************************\n",
      "Mean Square Error(MSE)= 29.298643950968767\n",
      "Number of iteration= 100\n"
     ]
    }
   ],
   "source": [
    "w_sgd, b_sgd, error_sgd=sklearn_sgd(alpha=0.0001, lr_rate_variation='constant', eta0=0.01, n_iter=100)"
   ]
  },
  {
   "cell_type": "code",
   "execution_count": 39,
   "metadata": {},
   "outputs": [],
   "source": [
    "new=[3, 'SGDRegressor', 0.0001, 'constant', 0.01, 0.25, 100, error_sgd]\n",
    "results.loc[2]=new"
   ]
  },
  {
   "cell_type": "markdown",
   "metadata": {},
   "source": [
    "manual sgd, n_iter=100, lr_rate=0.01, lr_rate_variation='constant'"
   ]
  },
  {
   "cell_type": "code",
   "execution_count": 40,
   "metadata": {},
   "outputs": [
    {
     "data": {
      "image/png": "[encoded data removed]",
      "text/plain": [
       "<Figure size 432x288 with 1 Axes>"
      ]
     },
     "metadata": {},
     "output_type": "display_data"
    },
    {
     "name": "stdout",
     "output_type": "stream",
     "text": [
      "**************************************************************\n",
      "error= 38.174674648802366\n"
     ]
    }
   ],
   "source": [
    "w, b = manual_fit(X=manual_train, lr_rate_variation='constant' , n_iter=100)\n",
    "y_pred=pred(X_test, w=w, b=b)\n",
    "manual_error=plot_(X_test,y_pred)"
   ]
  },
  {
   "cell_type": "code",
   "execution_count": 41,
   "metadata": {},
   "outputs": [
    {
     "name": "stdout",
     "output_type": "stream",
     "text": [
      "sklearn sgd weight---\n",
      " [-1.35709272  0.85262411 -0.03906446 -0.12357815 -1.38949533  3.15918935\n",
      " -0.11278818 -2.83285993  3.01781162 -2.18381783 -2.18728517  1.2063615\n",
      " -3.72778715]\n",
      "*********************************************************************************\n",
      "manual sgd weight---\n",
      " [[-0.7271526   0.42339693 -0.12005175  0.9564923  -0.56772734  3.59332289\n",
      "  -0.10954926 -1.30272929  0.15610412 -0.56580697 -1.55558616  0.47313158\n",
      "  -2.6701413 ]]\n"
     ]
    }
   ],
   "source": [
    "print('sklearn sgd weight---\\n',w_sgd)\n",
    "print('*********************************************************************************')\n",
    "print('manual sgd weight---\\n',w)"
   ]
  },
  {
   "cell_type": "code",
   "execution_count": 42,
   "metadata": {},
   "outputs": [
    {
     "name": "stdout",
     "output_type": "stream",
     "text": [
      "number of points more than 30% in percent= 11\n"
     ]
    }
   ],
   "source": [
    "percent=abs((w_sgd-w)/w)*100\n",
    "cnt=0\n",
    "for i in range(13):\n",
    "    if (percent[0][i]>30):\n",
    "        cnt+=1\n",
    "w_num.append(cnt)\n",
    "print('number of points more than 30% in percent=',cnt)"
   ]
  },
  {
   "cell_type": "code",
   "execution_count": 43,
   "metadata": {},
   "outputs": [
    {
     "name": "stdout",
     "output_type": "stream",
     "text": [
      "sklearn sgd intercept= [22.81739743]\n",
      "manual sgd intercept= [19.7352474]\n"
     ]
    }
   ],
   "source": [
    "print('sklearn sgd intercept=',b_sgd)\n",
    "print('manual sgd intercept=',b)\n",
    "b_diff.append(abs(b_sgd-b))"
   ]
  },
  {
   "cell_type": "code",
   "execution_count": 44,
   "metadata": {},
   "outputs": [],
   "source": [
    "new=[4, 'manual sgd', 0.0001, 'constant', 0.01, 0.25, 100, manual_error]\n",
    "results.loc[3]=new"
   ]
  },
  {
   "cell_type": "markdown",
   "metadata": {},
   "source": [
    "SGDRegressor, n_iter=1000, lr_rate=0.01, lr_rate_variation='constant'"
   ]
  },
  {
   "cell_type": "code",
   "execution_count": 45,
   "metadata": {},
   "outputs": [
    {
     "data": {
      "image/png": "[encoded data removed]",
      "text/plain": [
       "<Figure size 432x288 with 1 Axes>"
      ]
     },
     "metadata": {},
     "output_type": "display_data"
    },
    {
     "name": "stdout",
     "output_type": "stream",
     "text": [
      "***********************************************************\n",
      "Mean Square Error(MSE)= 26.91099337372429\n",
      "Number of iteration= 1000\n"
     ]
    }
   ],
   "source": [
    "w_sgd, b_sgd, error_sgd=sklearn_sgd(alpha=0.0001, lr_rate_variation='constant', eta0=0.01, n_iter=1000)"
   ]
  },
  {
   "cell_type": "code",
   "execution_count": 46,
   "metadata": {},
   "outputs": [],
   "source": [
    "new=[5, 'SGDRegressor', 0.0001, 'constant', 0.01, 0.25, 1000, error_sgd]\n",
    "results.loc[4]=new"
   ]
  },
  {
   "cell_type": "markdown",
   "metadata": {},
   "source": [
    "manual sgd, n_iter=1000, lr_rate=0.01, lr_rate_variation='constant'"
   ]
  },
  {
   "cell_type": "code",
   "execution_count": 49,
   "metadata": {},
   "outputs": [
    {
     "data": {
      "image/png": "[encoded data removed]",
      "text/plain": [
       "<Figure size 432x288 with 1 Axes>"
      ]
     },
     "metadata": {},
     "output_type": "display_data"
    },
    {
     "name": "stdout",
     "output_type": "stream",
     "text": [
      "**************************************************************\n",
      "error= 28.977005451071797\n"
     ]
    }
   ],
   "source": [
    "w, b=manual_fit(X=manual_train, lr_rate_variation='constant' , n_iter=1000)\n",
    "y_pred=pred(X_test, w=w, b=b)\n",
    "manual_error=plot_(X_test,y_pred)"
   ]
  },
  {
   "cell_type": "code",
   "execution_count": 50,
   "metadata": {},
   "outputs": [
    {
     "name": "stdout",
     "output_type": "stream",
     "text": [
      "sklearn sgd weight---\n",
      " [-0.91245506  0.84580875 -0.07287302  0.84191006 -1.28625449  2.891746\n",
      " -0.24800855 -2.81948556  3.31459101 -1.99498119 -1.85775569  1.32966677\n",
      " -3.15006517]\n",
      "*********************************************************************************\n",
      "manual sgd weight---\n",
      " [[-1.13834913  0.73851781 -0.66076759  0.20044495 -1.60891443  2.27211922\n",
      "  -0.2743936  -2.81237744  2.29928115 -1.27759899 -1.96177298  1.09897454\n",
      "  -3.08302218]]\n"
     ]
    }
   ],
   "source": [
    "print('sklearn sgd weight---\\n',w_sgd)\n",
    "print('*********************************************************************************')\n",
    "print('manual sgd weight---\\n',w)"
   ]
  },
  {
   "cell_type": "code",
   "execution_count": 51,
   "metadata": {},
   "outputs": [
    {
     "name": "stdout",
     "output_type": "stream",
     "text": [
      "number of points more than 30% in percent= 4\n"
     ]
    }
   ],
   "source": [
    "percent=abs((w_sgd-w)/w)*100\n",
    "cnt=0\n",
    "for i in range(13):\n",
    "    if (percent[0][i]>30):\n",
    "        cnt+=1\n",
    "w_num.append(cnt)\n",
    "print('number of points more than 30% in percent=',cnt)"
   ]
  },
  {
   "cell_type": "code",
   "execution_count": 52,
   "metadata": {},
   "outputs": [
    {
     "name": "stdout",
     "output_type": "stream",
     "text": [
      "sklearn sgd intercept= [22.54362213]\n",
      "manual sgd intercept= [22.48048925]\n"
     ]
    }
   ],
   "source": [
    "print('sklearn sgd intercept=',b_sgd)\n",
    "print('manual sgd intercept=',b)\n",
    "b_diff.append(abs(b_sgd-b))"
   ]
  },
  {
   "cell_type": "code",
   "execution_count": 53,
   "metadata": {},
   "outputs": [],
   "source": [
    "new=[6, 'manual sgd', 0.0001, 'constant', 0.01, 0.25, 1000, manual_error]\n",
    "results.loc[5]=new"
   ]
  },
  {
   "cell_type": "markdown",
   "metadata": {},
   "source": [
    "SGDRegressor, n_iter=10000, lr_rate=0.01, lr_rate_variation='constant'"
   ]
  },
  {
   "cell_type": "code",
   "execution_count": 54,
   "metadata": {},
   "outputs": [
    {
     "data": {
      "image/png": "[encoded data removed]",
      "text/plain": [
       "<Figure size 432x288 with 1 Axes>"
      ]
     },
     "metadata": {},
     "output_type": "display_data"
    },
    {
     "name": "stdout",
     "output_type": "stream",
     "text": [
      "***********************************************************\n",
      "Mean Square Error(MSE)= 29.561952523426328\n",
      "Number of iteration= 10000\n"
     ]
    }
   ],
   "source": [
    "w_sgd, b_sgd, error_sgd=sklearn_sgd(alpha=0.0001, lr_rate_variation='constant', eta0=0.01, n_iter=10000)"
   ]
  },
  {
   "cell_type": "code",
   "execution_count": 55,
   "metadata": {},
   "outputs": [],
   "source": [
    "new=[7, 'SGDRegressor', 0.0001, 'constant', 0.01, 0.25, 10000, error_sgd]\n",
    "results.loc[6]=new"
   ]
  },
  {
   "cell_type": "markdown",
   "metadata": {},
   "source": [
    "manual sgd, n_iter=10000, lr_rate=0.01, lr_rate_variation='constant'"
   ]
  },
  {
   "cell_type": "code",
   "execution_count": 57,
   "metadata": {},
   "outputs": [
    {
     "data": {
      "image/png": "[encoded data removed]",
      "text/plain": [
       "<Figure size 432x288 with 1 Axes>"
      ]
     },
     "metadata": {},
     "output_type": "display_data"
    },
    {
     "name": "stdout",
     "output_type": "stream",
     "text": [
      "**************************************************************\n",
      "error= 28.265946398298816\n"
     ]
    }
   ],
   "source": [
    "w, b=manual_fit(X=manual_train, lr_rate_variation='constant' , n_iter=10000)\n",
    "y_pred=pred(X_test, w=w, b=b)\n",
    "manual_error=plot_(X_test,y_pred)"
   ]
  },
  {
   "cell_type": "code",
   "execution_count": 58,
   "metadata": {},
   "outputs": [
    {
     "name": "stdout",
     "output_type": "stream",
     "text": [
      "sklearn sgd weight---\n",
      " [-1.39033976  0.90260603 -0.12090788  0.06214326 -1.616322    3.00791639\n",
      " -0.33208097 -2.61225227  3.242564   -2.22245299 -1.91932414  1.18716643\n",
      " -3.23288165]\n",
      "*********************************************************************************\n",
      "manual sgd weight---\n",
      " [[-1.26883199  0.73832373  0.10828917  0.30346918 -1.3426479   3.25671452\n",
      "  -0.4613516  -2.60809225  2.78571548 -2.3704637  -1.99195702  1.05739555\n",
      "  -2.99330407]]\n"
     ]
    }
   ],
   "source": [
    "print('sklearn sgd weight---\\n',w_sgd)\n",
    "print('*********************************************************************************')\n",
    "print('manual sgd weight---\\n',w)"
   ]
  },
  {
   "cell_type": "code",
   "execution_count": 59,
   "metadata": {},
   "outputs": [
    {
     "name": "stdout",
     "output_type": "stream",
     "text": [
      "number of points more than 30% in percent= 2\n"
     ]
    }
   ],
   "source": [
    "percent=abs((w_sgd-w)/w)*100\n",
    "cnt=0\n",
    "for i in range(13):\n",
    "    if (percent[0][i]>30):\n",
    "        cnt+=1\n",
    "w_num.append(cnt)\n",
    "print('number of points more than 30% in percent=',cnt)"
   ]
  },
  {
   "cell_type": "code",
   "execution_count": 60,
   "metadata": {},
   "outputs": [
    {
     "name": "stdout",
     "output_type": "stream",
     "text": [
      "sklearn sgd intercept= [22.35774919]\n",
      "manual sgd intercept= [22.59159576]\n"
     ]
    }
   ],
   "source": [
    "print('sklearn sgd intercept=',b_sgd)\n",
    "print('manual sgd intercept=',b)\n",
    "b_diff.append(abs(b_sgd-b))"
   ]
  },
  {
   "cell_type": "code",
   "execution_count": 61,
   "metadata": {},
   "outputs": [],
   "source": [
    "new=[8, 'manual sgd', 0.0001, 'constant', 0.01, 0.25, 10000, manual_error]\n",
    "results.loc[7]=new"
   ]
  },
  {
   "cell_type": "code",
   "execution_count": 63,
   "metadata": {},
   "outputs": [],
   "source": [
    "import tabulate\n",
    "table1 = [['n_iter', 'no. of points>30% in w', 'difference in intercept'],\n",
    "         [1,w_num[0], b_diff[0]], \n",
    "         [100, w_num[1], b_diff[1]],\n",
    "         [1000, w_num[2], b_diff[2]],\n",
    "         [10000, w_num[3], b_diff[3]]]"
   ]
  },
  {
   "cell_type": "code",
   "execution_count": 64,
   "metadata": {},
   "outputs": [
    {
     "name": "stdout",
     "output_type": "stream",
     "text": [
      "╒════════╤════════════════════════╤═════════════════════════╕\n",
      "│ n_iter │ no. of points>30% in w │ difference in intercept │\n",
      "├────────┼────────────────────────┼─────────────────────────┤\n",
      "│ 1      │ 13                     │ [21.39337053]           │\n",
      "├────────┼────────────────────────┼─────────────────────────┤\n",
      "│ 100    │ 11                     │ [3.08215003]            │\n",
      "├────────┼────────────────────────┼─────────────────────────┤\n",
      "│ 1000   │ 4                      │ [0.06313288]            │\n",
      "├────────┼────────────────────────┼─────────────────────────┤\n",
      "│ 10000  │ 2                      │ [0.23384657]            │\n",
      "╘════════╧════════════════════════╧═════════════════════════╛\n"
     ]
    }
   ],
   "source": [
    "print(tabulate.tabulate(table1, tablefmt='fancy_grid'))"
   ]
  },
  {
   "cell_type": "code",
   "execution_count": 65,
   "metadata": {},
   "outputs": [
    {
     "data": {
      "text/html": [
       "<div>\n",
       "<style scoped>\n",
       "    .dataframe tbody tr th:only-of-type {\n",
       "        vertical-align: middle;\n",
       "    }\n",
       "\n",
       "    .dataframe tbody tr th {\n",
       "        vertical-align: top;\n",
       "    }\n",
       "\n",
       "    .dataframe thead th {\n",
       "        text-align: right;\n",
       "    }\n",
       "</style>\n",
       "<table border=\"1\" class=\"dataframe\">\n",
       "  <thead>\n",
       "    <tr style=\"text-align: right;\">\n",
       "      <th></th>\n",
       "      <th>sno</th>\n",
       "      <th>algo</th>\n",
       "      <th>alpha</th>\n",
       "      <th>lr_rate_variation</th>\n",
       "      <th>init_lr_rate</th>\n",
       "      <th>power_t</th>\n",
       "      <th>n_iter</th>\n",
       "      <th>error</th>\n",
       "    </tr>\n",
       "  </thead>\n",
       "  <tbody>\n",
       "    <tr>\n",
       "      <th>0</th>\n",
       "      <td>1</td>\n",
       "      <td>SGDRegressor</td>\n",
       "      <td>0.0001</td>\n",
       "      <td>constant</td>\n",
       "      <td>0.01</td>\n",
       "      <td>0.25</td>\n",
       "      <td>1</td>\n",
       "      <td>33.823916</td>\n",
       "    </tr>\n",
       "    <tr>\n",
       "      <th>1</th>\n",
       "      <td>2</td>\n",
       "      <td>manual sgd</td>\n",
       "      <td>0.0001</td>\n",
       "      <td>constant</td>\n",
       "      <td>0.01</td>\n",
       "      <td>0.25</td>\n",
       "      <td>1</td>\n",
       "      <td>568.720977</td>\n",
       "    </tr>\n",
       "    <tr>\n",
       "      <th>2</th>\n",
       "      <td>3</td>\n",
       "      <td>SGDRegressor</td>\n",
       "      <td>0.0001</td>\n",
       "      <td>constant</td>\n",
       "      <td>0.01</td>\n",
       "      <td>0.25</td>\n",
       "      <td>100</td>\n",
       "      <td>29.298644</td>\n",
       "    </tr>\n",
       "    <tr>\n",
       "      <th>3</th>\n",
       "      <td>4</td>\n",
       "      <td>manual sgd</td>\n",
       "      <td>0.0001</td>\n",
       "      <td>constant</td>\n",
       "      <td>0.01</td>\n",
       "      <td>0.25</td>\n",
       "      <td>100</td>\n",
       "      <td>38.174675</td>\n",
       "    </tr>\n",
       "    <tr>\n",
       "      <th>4</th>\n",
       "      <td>5</td>\n",
       "      <td>SGDRegressor</td>\n",
       "      <td>0.0001</td>\n",
       "      <td>constant</td>\n",
       "      <td>0.01</td>\n",
       "      <td>0.25</td>\n",
       "      <td>1000</td>\n",
       "      <td>26.910993</td>\n",
       "    </tr>\n",
       "    <tr>\n",
       "      <th>5</th>\n",
       "      <td>6</td>\n",
       "      <td>manual sgd</td>\n",
       "      <td>0.0001</td>\n",
       "      <td>constant</td>\n",
       "      <td>0.01</td>\n",
       "      <td>0.25</td>\n",
       "      <td>1000</td>\n",
       "      <td>28.977005</td>\n",
       "    </tr>\n",
       "    <tr>\n",
       "      <th>6</th>\n",
       "      <td>7</td>\n",
       "      <td>SGDRegressor</td>\n",
       "      <td>0.0001</td>\n",
       "      <td>constant</td>\n",
       "      <td>0.01</td>\n",
       "      <td>0.25</td>\n",
       "      <td>10000</td>\n",
       "      <td>29.561953</td>\n",
       "    </tr>\n",
       "    <tr>\n",
       "      <th>7</th>\n",
       "      <td>8</td>\n",
       "      <td>manual sgd</td>\n",
       "      <td>0.0001</td>\n",
       "      <td>constant</td>\n",
       "      <td>0.01</td>\n",
       "      <td>0.25</td>\n",
       "      <td>10000</td>\n",
       "      <td>28.265946</td>\n",
       "    </tr>\n",
       "  </tbody>\n",
       "</table>\n",
       "</div>"
      ],
      "text/plain": [
       "  sno          algo   alpha lr_rate_variation  init_lr_rate  power_t n_iter  \\\n",
       "0   1  SGDRegressor  0.0001          constant          0.01     0.25      1   \n",
       "1   2    manual sgd  0.0001          constant          0.01     0.25      1   \n",
       "2   3  SGDRegressor  0.0001          constant          0.01     0.25    100   \n",
       "3   4    manual sgd  0.0001          constant          0.01     0.25    100   \n",
       "4   5  SGDRegressor  0.0001          constant          0.01     0.25   1000   \n",
       "5   6    manual sgd  0.0001          constant          0.01     0.25   1000   \n",
       "6   7  SGDRegressor  0.0001          constant          0.01     0.25  10000   \n",
       "7   8    manual sgd  0.0001          constant          0.01     0.25  10000   \n",
       "\n",
       "        error  \n",
       "0   33.823916  \n",
       "1  568.720977  \n",
       "2   29.298644  \n",
       "3   38.174675  \n",
       "4   26.910993  \n",
       "5   28.977005  \n",
       "6   29.561953  \n",
       "7   28.265946  "
      ]
     },
     "execution_count": 65,
     "metadata": {},
     "output_type": "execute_result"
    }
   ],
   "source": [
    "results"
   ]
  },
  {
   "cell_type": "markdown",
   "metadata": {},
   "source": [
    "Observaytion:\n",
    "By increasing iterations, error going to reduce for manual sgd and also weight going to get similar for sgd regressor and manul sgd. "
   ]
  }
 ],
 "metadata": {
  "kernelspec": {
   "display_name": "Python 3",
   "language": "python",
   "name": "python3"
  },
  "language_info": {
   "codemirror_mode": {
    "name": "ipython",
    "version": 3
   },
   "file_extension": ".py",
   "mimetype": "text/x-python",
   "name": "python",
   "nbconvert_exporter": "python",
   "pygments_lexer": "ipython3",
   "version": "3.6.5"
  }
 },
 "nbformat": 4,
 "nbformat_minor": 2
}
